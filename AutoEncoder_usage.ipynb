{
 "cells": [
  {
   "cell_type": "code",
   "execution_count": 1,
   "id": "27809e0a-ebce-4e86-991f-c06ef6f29908",
   "metadata": {},
   "outputs": [],
   "source": [
    "from src import AutoEncoder\n",
    "import torch"
   ]
  },
  {
   "cell_type": "code",
   "execution_count": 2,
   "id": "e87d8c21-b2e4-44ab-aaf2-18992ce38741",
   "metadata": {},
   "outputs": [],
   "source": "from ae_ideal.Context import TrainContext"
  },
  {
   "cell_type": "code",
   "execution_count": 3,
   "id": "dd9e18cf-4c72-45e2-accc-0e378770c589",
   "metadata": {
    "scrolled": true
   },
   "outputs": [],
   "source": [
    "ctx = TrainContext()"
   ]
  },
  {
   "cell_type": "code",
   "execution_count": 7,
   "id": "ba28d598-5c7f-4d34-9aec-c004d7bb2f09",
   "metadata": {},
   "outputs": [],
   "source": [
    "encoder = ctx.data_preprocessor.auto_encoder.get_encoder()\n",
    "ae = ctx.data_preprocessor.auto_encoder"
   ]
  },
  {
   "cell_type": "code",
   "execution_count": 5,
   "id": "d37d3844-33c7-4333-9ee6-20a14ba25a78",
   "metadata": {},
   "outputs": [],
   "source": [
    "import torchinfo"
   ]
  },
  {
   "cell_type": "code",
   "execution_count": 6,
   "id": "b7a888da-16fb-4f3c-8fee-2801c6f9272d",
   "metadata": {},
   "outputs": [
    {
     "data": {
      "text/plain": [
       "==========================================================================================\n",
       "Layer (type:depth-idx)                   Output Shape              Param #\n",
       "==========================================================================================\n",
       "Sequential                               [1, 300]                  --\n",
       "├─Sequential: 1-1                        [1, 20, 79]               --\n",
       "│    └─Conv1d: 2-1                       [1, 40, 497]              16,040\n",
       "│    └─ReLU: 2-2                         [1, 40, 497]              --\n",
       "│    └─SelfAttention: 2-3                [1, 40, 497]              --\n",
       "│    │    └─MultiheadAttention: 3-1      [1, 497, 40]              6,560\n",
       "│    │    └─LayerNorm: 3-2               [1, 497, 40]              80\n",
       "│    │    └─Sequential: 3-3              [1, 497, 40]              10,408\n",
       "│    │    └─LayerNorm: 3-4               [1, 497, 40]              80\n",
       "│    └─ReLU: 2-4                         [1, 40, 497]              --\n",
       "│    └─Conv1d: 2-5                       [1, 20, 246]              5,620\n",
       "│    └─ReLU: 2-6                         [1, 20, 246]              --\n",
       "│    └─Conv1d: 2-7                       [1, 20, 79]               4,420\n",
       "│    └─ReLU: 2-8                         [1, 20, 79]               --\n",
       "├─Flatten: 1-2                           [1, 1580]                 --\n",
       "├─Linear: 1-3                            [1, 300]                  474,300\n",
       "==========================================================================================\n",
       "Total params: 517,508\n",
       "Trainable params: 517,508\n",
       "Non-trainable params: 0\n",
       "Total mult-adds (Units.MEGABYTES): 10.19\n",
       "==========================================================================================\n",
       "Input size (MB): 0.16\n",
       "Forward/backward pass size (MB): 1.20\n",
       "Params size (MB): 2.04\n",
       "Estimated Total Size (MB): 3.40\n",
       "=========================================================================================="
      ]
     },
     "execution_count": 6,
     "metadata": {},
     "output_type": "execute_result"
    }
   ],
   "source": [
    "torchinfo.summary(encoder, torch.Size([1, 80, 501]))"
   ]
  },
  {
   "cell_type": "code",
   "execution_count": 9,
   "id": "db9135e5-da35-40b9-bace-6e9dbb1d7d46",
   "metadata": {},
   "outputs": [
    {
     "data": {
      "text/plain": [
       "==========================================================================================\n",
       "Layer (type:depth-idx)                   Output Shape              Param #\n",
       "==========================================================================================\n",
       "AutoEncoder                              [1, 80, 501]              --\n",
       "├─Sequential: 1-1                        [1, 20, 79]               --\n",
       "│    └─Conv1d: 2-1                       [1, 40, 497]              16,040\n",
       "│    └─ReLU: 2-2                         [1, 40, 497]              --\n",
       "│    └─SelfAttention: 2-3                [1, 40, 497]              --\n",
       "│    │    └─MultiheadAttention: 3-1      [1, 497, 40]              6,560\n",
       "│    │    └─LayerNorm: 3-2               [1, 497, 40]              80\n",
       "│    │    └─Sequential: 3-3              [1, 497, 40]              10,408\n",
       "│    │    └─LayerNorm: 3-4               [1, 497, 40]              80\n",
       "│    └─ReLU: 2-4                         [1, 40, 497]              --\n",
       "│    └─Conv1d: 2-5                       [1, 20, 246]              5,620\n",
       "│    └─ReLU: 2-6                         [1, 20, 246]              --\n",
       "│    └─Conv1d: 2-7                       [1, 20, 79]               4,420\n",
       "│    └─ReLU: 2-8                         [1, 20, 79]               --\n",
       "├─Flatten: 1-2                           [1, 1580]                 --\n",
       "├─Linear: 1-3                            [1, 300]                  474,300\n",
       "├─Linear: 1-4                            [1, 1580]                 475,580\n",
       "├─Unflatten: 1-5                         [1, 20, 79]               --\n",
       "├─Sequential: 1-6                        [1, 80, 499]              --\n",
       "│    └─ConvTranspose1d: 2-9              [1, 20, 245]              4,420\n",
       "│    └─ReLU: 2-10                        [1, 20, 245]              --\n",
       "│    └─ConvTranspose1d: 2-11             [1, 40, 495]              5,640\n",
       "│    └─ReLU: 2-12                        [1, 40, 495]              --\n",
       "│    └─ConvTranspose1d: 2-13             [1, 80, 499]              16,080\n",
       "==========================================================================================\n",
       "Total params: 1,019,228\n",
       "Trainable params: 1,019,228\n",
       "Non-trainable params: 0\n",
       "Total mult-adds (Units.MEGABYTES): 22.56\n",
       "==========================================================================================\n",
       "Input size (MB): 0.16\n",
       "Forward/backward pass size (MB): 1.73\n",
       "Params size (MB): 4.05\n",
       "Estimated Total Size (MB): 5.94\n",
       "=========================================================================================="
      ]
     },
     "execution_count": 9,
     "metadata": {},
     "output_type": "execute_result"
    }
   ],
   "source": [
    "torchinfo.summary(ae, torch.Size([1, 80, 501]))"
   ]
  },
  {
   "cell_type": "code",
   "execution_count": 13,
   "id": "533c20f9-71ee-4a17-a851-7519ee1e2a02",
   "metadata": {},
   "outputs": [],
   "source": [
    "data0 = ctx.train_set[0][0]"
   ]
  },
  {
   "cell_type": "code",
   "execution_count": 14,
   "id": "9b3fae0a-a32e-45c4-9367-c29f9ff7fdee",
   "metadata": {},
   "outputs": [
    {
     "data": {
      "text/plain": [
       "torch.Size([1, 20, 75])"
      ]
     },
     "execution_count": 14,
     "metadata": {},
     "output_type": "execute_result"
    }
   ],
   "source": [
    "data0.shape"
   ]
  },
  {
   "cell_type": "code",
   "execution_count": null,
   "id": "4a5f2b41-bf68-4223-bf3a-26f30bc36955",
   "metadata": {},
   "outputs": [],
   "source": [
    "ctx.tra"
   ]
  },
  {
   "cell_type": "code",
   "execution_count": 1,
   "id": "f0a5f315-d153-4b96-8c34-a7aef509f7c7",
   "metadata": {},
   "outputs": [],
   "source": [
    "import torch"
   ]
  },
  {
   "cell_type": "code",
   "execution_count": 2,
   "id": "8eab6ddf-e667-425c-b57b-f76cf254d7a5",
   "metadata": {},
   "outputs": [],
   "source": [
    "dataset = torch.load(\"data/esc50_fixed_dataset.pt\")"
   ]
  },
  {
   "cell_type": "code",
   "execution_count": 3,
   "id": "be4cf00c-3ebc-4228-893a-6e55d88c6a59",
   "metadata": {},
   "outputs": [],
   "source": [
    "train = dataset[\"train\"]"
   ]
  },
  {
   "cell_type": "code",
   "execution_count": 5,
   "id": "050ebdaa-186f-407f-a66e-c53d1f84ec42",
   "metadata": {},
   "outputs": [
    {
     "data": {
      "text/plain": [
       "torch.Size([1, 220500])"
      ]
     },
     "execution_count": 5,
     "metadata": {},
     "output_type": "execute_result"
    }
   ],
   "source": [
    "train[0][0].shape"
   ]
  },
  {
   "cell_type": "code",
   "execution_count": null,
   "id": "ad4892b3-c0c4-43a6-940b-44478570cb19",
   "metadata": {},
   "outputs": [],
   "source": []
  }
 ],
 "metadata": {
  "kernelspec": {
   "display_name": "Python 3 (ipykernel)",
   "language": "python",
   "name": "python3"
  },
  "language_info": {
   "codemirror_mode": {
    "name": "ipython",
    "version": 3
   },
   "file_extension": ".py",
   "mimetype": "text/x-python",
   "name": "python",
   "nbconvert_exporter": "python",
   "pygments_lexer": "ipython3",
   "version": "3.11.12"
  }
 },
 "nbformat": 4,
 "nbformat_minor": 5
}
